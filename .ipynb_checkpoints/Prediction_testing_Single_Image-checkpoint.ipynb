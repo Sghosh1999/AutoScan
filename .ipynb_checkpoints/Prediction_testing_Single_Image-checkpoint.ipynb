{
 "cells": [
  {
   "cell_type": "code",
   "execution_count": 2,
   "id": "94213d8b",
   "metadata": {},
   "outputs": [],
   "source": [
    "import cv2\n",
    "import predictions as pred"
   ]
  },
  {
   "cell_type": "code",
   "execution_count": 3,
   "id": "3d5ec30e",
   "metadata": {},
   "outputs": [],
   "source": [
    "img = cv2.imread('./data/041.jpeg')\n",
    "cv2.namedWindow(\"Original Image\",cv2.WINDOW_NORMAL)\n",
    "cv2.imshow(\"Original Image\",img)\n",
    "cv2.waitKey(0)\n",
    "cv2.destroyAllWindows()"
   ]
  },
  {
   "cell_type": "code",
   "execution_count": 4,
   "id": "f36bd24e",
   "metadata": {},
   "outputs": [],
   "source": [
    "img_result, img_entities = pred.getPredictions(img)"
   ]
  },
  {
   "cell_type": "code",
   "execution_count": 5,
   "id": "6e8b6a64",
   "metadata": {},
   "outputs": [],
   "source": [
    "cv2.namedWindow(\"Bounded Image\",cv2.WINDOW_NORMAL)\n",
    "cv2.imshow(\"Bounded Image\",img_result)\n",
    "cv2.waitKey(0)\n",
    "cv2.destroyAllWindows()"
   ]
  },
  {
   "cell_type": "code",
   "execution_count": 6,
   "id": "d8d16d65",
   "metadata": {},
   "outputs": [
    {
     "data": {
      "text/plain": [
       "{'NAME': ['Thathineni Srikanth'],\n",
       " 'ORG': ['Life Insurance Corporation Of India',\n",
       "  'Life Insurance Corporation Of India'],\n",
       " 'DES': ['Insurance Advisor'],\n",
       " 'EMAIL': ['lictsrikant@gmail.com', 'seosrika ntht@gmail '],\n",
       " 'PHONE': ['8099948528', '8466045457'],\n",
       " 'WEB': ['lictsrikant8099948528.blogspot.in',\n",
       "  'interviewsinhyderabad.blogspot.in']}"
      ]
     },
     "execution_count": 6,
     "metadata": {},
     "output_type": "execute_result"
    }
   ],
   "source": [
    "img_entities"
   ]
  },
  {
   "cell_type": "code",
   "execution_count": null,
   "id": "3717d368",
   "metadata": {},
   "outputs": [],
   "source": []
  }
 ],
 "metadata": {
  "kernelspec": {
   "display_name": "Python 3",
   "language": "python",
   "name": "python3"
  },
  "language_info": {
   "codemirror_mode": {
    "name": "ipython",
    "version": 3
   },
   "file_extension": ".py",
   "mimetype": "text/x-python",
   "name": "python",
   "nbconvert_exporter": "python",
   "pygments_lexer": "ipython3",
   "version": "3.8.5"
  }
 },
 "nbformat": 4,
 "nbformat_minor": 5
}
